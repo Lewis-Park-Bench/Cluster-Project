{
 "cells": [
  {
   "cell_type": "code",
   "execution_count": 3,
   "metadata": {},
   "outputs": [],
   "source": [
    "import matplotlib.pyplot as plt\n",
    "import numpy as np\n",
    "import pandas as pd\n",
    "import seaborn as sns\n",
    "\n",
    "from mvp_wrangle import *\n",
    "from explore import *\n",
    "from modeling import *\n",
    "\n",
    "from scipy import stats\n",
    "from sklearn.linear_model import LinearRegression, TweedieRegressor, LassoLars\n",
    "from sklearn.metrics import r2_score, mean_squared_error, explained_variance_score\n",
    "from sklearn.preprocessing import MinMaxScaler, StandardScaler, RobustScaler, QuantileTransformer, PolynomialFeatures\n",
    "\n",
    "# Shhhh\n",
    "import warnings\n",
    "warnings.filterwarnings(\"ignore\")"
   ]
  },
  {
   "cell_type": "markdown",
   "metadata": {},
   "source": [
    "### Planning\n",
    "##### Goal:\n",
    "- Project Objective: Use Clusters to help advance our Regression Modeling attempts on the 2017 Zillow dataset.\n",
    "##### Deliverables:\n",
    "- Wrangle.py : Functions to reproduce Wrangling and Cleaning of Data.\n",
    "- Explore.py : Functions to reproduce Exploring the Data.\n",
    "- Model.py : Functions to reproduce Modeling the Data.\n",
    "- Final Notebook (ipynb) : Notebook with steps to reproduce.\n",
    "##### Questions to Explore:\n",
    "- Which features have the most deviation from the logerror mean?\n",
    "- Do any clusters help predict logerror?"
   ]
  },
  {
   "cell_type": "markdown",
   "metadata": {},
   "source": [
    "------"
   ]
  },
  {
   "cell_type": "markdown",
   "metadata": {},
   "source": [
    "### Data Acquisition and Data Preparations\n",
    "Using our wrangle.py, we'll Acquire the data via the Cloud SQL and save a local copy as a .csv, any further need for data will load the local saved copy.\n",
    "\n",
    "Outliers will be stripped, and the few remaining nulls dropped.\n",
    "\n",
    "Histograms and Box Plots are generated to visualize our data,\n",
    "\n",
    "Then the data will be split into Train, X_train, X_validate, X_test, y_train, y_validate, and y_test Dataframes."
   ]
  },
  {
   "cell_type": "code",
   "execution_count": 4,
   "metadata": {},
   "outputs": [
    {
     "ename": "ValueError",
     "evalue": "too many values to unpack (expected 7)",
     "output_type": "error",
     "traceback": [
      "\u001b[0;31m---------------------------------------------------------------------------\u001b[0m",
      "\u001b[0;31mValueError\u001b[0m                                Traceback (most recent call last)",
      "\u001b[1;32m/Users/remeny/codeup-data-science/Cluster-Project/final_notebook.ipynb Cell 5\u001b[0m in \u001b[0;36m<cell line: 1>\u001b[0;34m()\u001b[0m\n\u001b[0;32m----> <a href='vscode-notebook-cell:/Users/remeny/codeup-data-science/Cluster-Project/final_notebook.ipynb#Y152sZmlsZQ%3D%3D?line=0'>1</a>\u001b[0m train, X_train, X_validate, X_test, y_train, y_validate, y_test \u001b[39m=\u001b[39m wrangle_zillow()\n\u001b[1;32m      <a href='vscode-notebook-cell:/Users/remeny/codeup-data-science/Cluster-Project/final_notebook.ipynb#Y152sZmlsZQ%3D%3D?line=1'>2</a>\u001b[0m train\u001b[39m.\u001b[39mshape, X_train\u001b[39m.\u001b[39mshape, X_validate\u001b[39m.\u001b[39mshape, X_test\u001b[39m.\u001b[39mshape, y_train\u001b[39m.\u001b[39mshape, y_validate\u001b[39m.\u001b[39mshape, y_test\u001b[39m.\u001b[39mshape\n",
      "\u001b[0;31mValueError\u001b[0m: too many values to unpack (expected 7)"
     ]
    }
   ],
   "source": [
    "train, X_train, X_validate, X_test, y_train, y_validate, y_test = wrangle_zillow()\n",
    "train.shape, X_train.shape, X_validate.shape, X_test.shape, y_train.shape, y_validate.shape, y_test.shape"
   ]
  },
  {
   "cell_type": "code",
   "execution_count": null,
   "metadata": {},
   "outputs": [],
   "source": [
    "train.dtypes"
   ]
  },
  {
   "cell_type": "markdown",
   "metadata": {},
   "source": [
    "The shape of the split looks good, as do our charts with more expected outliers. All Datatypes are what might be expected and are easily worked with as well."
   ]
  },
  {
   "cell_type": "markdown",
   "metadata": {},
   "source": [
    "-----"
   ]
  },
  {
   "cell_type": "markdown",
   "metadata": {},
   "source": [
    "### Data Exploration\n",
    "We'll begin visualising using the TRAIN dataframe. Comparing different features."
   ]
  },
  {
   "cell_type": "markdown",
   "metadata": {},
   "source": [
    "- first let's check the range of the columns."
   ]
  },
  {
   "cell_type": "markdown",
   "metadata": {},
   "source": [
    "Range of bedrooms and bathrooms are fairly expected, the range of the area though is larger than you'd expect, but that seems due to a very small house at 152sqft (it's not small enough to be an outlier though). The range of tax_value (our target) is a little daunting, with over 1,000,000 difference between lowest and highest, but we can do it."
   ]
  },
  {
   "cell_type": "markdown",
   "metadata": {},
   "source": [
    "- Let's look at some Categorical data vs. our goal now. [Using Train]"
   ]
  },
  {
   "cell_type": "markdown",
   "metadata": {},
   "source": [
    "- And Variable Pairs (including correlations)"
   ]
  },
  {
   "cell_type": "markdown",
   "metadata": {},
   "source": [
    "------"
   ]
  },
  {
   "cell_type": "markdown",
   "metadata": {},
   "source": [
    "### Stats Testing"
   ]
  },
  {
   "cell_type": "markdown",
   "metadata": {},
   "source": [
    "Looking at some of the charats above, we get an idea of how some of the data might correlate, so let's move onto testing the main hypothesis."
   ]
  },
  {
   "cell_type": "markdown",
   "metadata": {},
   "source": [
    "H0:\n",
    "- There is no Correlation between [Bedrooms, Bathrooms, Area] and Tax Value.\n",
    "\n",
    "Ha:\n",
    "- There is a Correlation between [Bedrooms, Bathrooms, Area] and Tax Value."
   ]
  },
  {
   "cell_type": "markdown",
   "metadata": {},
   "source": [
    "Now, we saw above that generally Area, Bathroom, then Bedroom had the most correlation with Tax Value. Let's look into that again."
   ]
  },
  {
   "cell_type": "markdown",
   "metadata": {},
   "source": [
    "Area:\n",
    "###### With the low starting point in area, let's try the lower of mean vs median."
   ]
  },
  {
   "cell_type": "markdown",
   "metadata": {},
   "source": [
    "- This is to be expected, a larger house is usually worth more."
   ]
  },
  {
   "cell_type": "markdown",
   "metadata": {},
   "source": [
    "Bathrooms:"
   ]
  },
  {
   "cell_type": "markdown",
   "metadata": {},
   "source": [
    "- Again, More of something usually values at more."
   ]
  },
  {
   "cell_type": "markdown",
   "metadata": {},
   "source": [
    "Bedrooms:"
   ]
  },
  {
   "cell_type": "markdown",
   "metadata": {},
   "source": [
    "- Yet again, More is more valuable."
   ]
  },
  {
   "cell_type": "markdown",
   "metadata": {},
   "source": [
    "Area vs. Bathroom:"
   ]
  },
  {
   "cell_type": "markdown",
   "metadata": {},
   "source": [
    "- This is where it gets interesting, More bathrooms values higher than more square footage.\n",
    "- On both counts, Bathrooms appear to be more prized than area."
   ]
  },
  {
   "cell_type": "markdown",
   "metadata": {},
   "source": [
    "Area vs. Bedroom:"
   ]
  },
  {
   "cell_type": "markdown",
   "metadata": {},
   "source": [
    "- Now here, More area is worth more than More bedrooms.\n",
    "- But the lower half of bedrooms actually have more value than the lower half of area.\n",
    "- Does that mean there is such a thing as too many rooms? and too few?"
   ]
  },
  {
   "cell_type": "markdown",
   "metadata": {},
   "source": [
    "Bedroom vs. Bathroom:"
   ]
  },
  {
   "cell_type": "markdown",
   "metadata": {},
   "source": [
    "- Here, given the other two tests, it's expected bathrooms would have more value since they beat area, and area beat bedrooms.\n",
    "- But, it seems Bedrooms reign supreme for items wanted below the median, putting area at the bottom below bathrooms."
   ]
  },
  {
   "cell_type": "markdown",
   "metadata": {},
   "source": [
    "##### Testing some other stats:"
   ]
  },
  {
   "cell_type": "markdown",
   "metadata": {},
   "source": [
    "Creating some new columns using ones we have, like Area per Bedroom/Bathroom."
   ]
  },
  {
   "cell_type": "markdown",
   "metadata": {},
   "source": [
    "###### Factoring in the tax_value might be useful as well. If time is given, we'll come back to that."
   ]
  },
  {
   "cell_type": "markdown",
   "metadata": {},
   "source": [
    "Let's check out correlations."
   ]
  },
  {
   "cell_type": "markdown",
   "metadata": {},
   "source": [
    "They're about on par if not less than the default : Area, Bedrooms, Bathrooms"
   ]
  },
  {
   "cell_type": "markdown",
   "metadata": {},
   "source": [
    "Honestly, my thoughts are Area, Bathroom, and Bedroom are the best for building models. I include Bedrooms because they appear to have the biggest affect on the lower end of the spectrum, so it might help balance the models."
   ]
  },
  {
   "cell_type": "markdown",
   "metadata": {},
   "source": [
    "------"
   ]
  },
  {
   "cell_type": "markdown",
   "metadata": {},
   "source": [
    "### Feature Engineering"
   ]
  },
  {
   "cell_type": "markdown",
   "metadata": {},
   "source": [
    "Let's create X,y dataframes, and verify my conclusions with some SKLearn calculations:"
   ]
  },
  {
   "cell_type": "markdown",
   "metadata": {},
   "source": [
    "Using LinearRegression:"
   ]
  },
  {
   "cell_type": "markdown",
   "metadata": {},
   "source": [
    "Using LassoLars:"
   ]
  },
  {
   "cell_type": "markdown",
   "metadata": {},
   "source": [
    "Using TweedieRegressor:"
   ]
  },
  {
   "cell_type": "markdown",
   "metadata": {},
   "source": [
    "So there's a couple wild cards, Bed and Bath, as well as Rooms and Area. So let's keep those two on the models.\n",
    "\n",
    "We'll drop area_by_bathroom, and area_by_beds, then resplit into X,y."
   ]
  },
  {
   "cell_type": "markdown",
   "metadata": {},
   "source": [
    "There, now we've got the features we want to keep. Now to fix our X,y."
   ]
  },
  {
   "cell_type": "markdown",
   "metadata": {},
   "source": [
    "Shape looks good; Now we're all set for modeling"
   ]
  },
  {
   "cell_type": "markdown",
   "metadata": {},
   "source": [
    "---------"
   ]
  },
  {
   "cell_type": "markdown",
   "metadata": {},
   "source": [
    "### Modeling"
   ]
  },
  {
   "cell_type": "markdown",
   "metadata": {},
   "source": [
    "Now to try out our selected features on some actual models."
   ]
  },
  {
   "cell_type": "markdown",
   "metadata": {},
   "source": [
    "Let's check the RMSE and r^2 for several different models, a metric df will be created will all the stats for the different models. The baseline and predictions will also be added to y_train and y_validate. "
   ]
  },
  {
   "cell_type": "markdown",
   "metadata": {},
   "source": [
    "So none of them are great, but Linear Regression and LassoLars are my top two picks, looking at the above charts, I like LassoLars just a smidge more due to having a tad more distribution within the blue actual tax_value area."
   ]
  },
  {
   "cell_type": "markdown",
   "metadata": {},
   "source": [
    "##### Final Model:"
   ]
  },
  {
   "cell_type": "markdown",
   "metadata": {},
   "source": [
    "Fitting the LassoLars to X,y train dataframe, and evaluating on X,y test."
   ]
  },
  {
   "cell_type": "markdown",
   "metadata": {},
   "source": [
    "### Conclusions"
   ]
  },
  {
   "cell_type": "markdown",
   "metadata": {},
   "source": [
    "There is a lot more that contributes to house value than just squarefootage, number of bathrooms and number of bedrooms. Location is very important, as is how much property the house sits on. With more time I'd like to start with Location and Property Size, then branch out further from there."
   ]
  },
  {
   "cell_type": "markdown",
   "metadata": {},
   "source": [
    "Otherwise, Lasso + Lars with a 3.8 Alpha is slightly better than Normalised Linear Regression with the basic values we're working with."
   ]
  }
 ],
 "metadata": {
  "kernelspec": {
   "display_name": "Python 3.9.12 ('base')",
   "language": "python",
   "name": "python3"
  },
  "language_info": {
   "codemirror_mode": {
    "name": "ipython",
    "version": 3
   },
   "file_extension": ".py",
   "mimetype": "text/x-python",
   "name": "python",
   "nbconvert_exporter": "python",
   "pygments_lexer": "ipython3",
   "version": "3.9.12"
  },
  "orig_nbformat": 4,
  "vscode": {
   "interpreter": {
    "hash": "3067ead486e059ec00ffe7555bdb889e6e264a24dc711bf108106cc7baee8d5d"
   }
  }
 },
 "nbformat": 4,
 "nbformat_minor": 2
}
